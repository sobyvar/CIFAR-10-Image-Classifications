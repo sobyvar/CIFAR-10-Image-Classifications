{
  "nbformat": 4,
  "nbformat_minor": 0,
  "metadata": {
    "colab": {
      "name": "CIFAR-10-Image-Classification",
      "version": "0.3.2",
      "provenance": [],
      "collapsed_sections": []
    },
    "kernelspec": {
      "name": "python3",
      "display_name": "Python 3"
    },
    "accelerator": "GPU"
  },
  "cells": [
    {
      "metadata": {
        "id": "08F9zTxOwPmN",
        "colab_type": "text"
      },
      "cell_type": "markdown",
      "source": [
        "**This project is to classify the image using CNN**\n",
        "\n",
        "**The CIFAR-10 dataset**\n",
        "\n",
        "**The CIFAR-10 dataset consists of 60000 32x32 colour images in 10 classes, with 6000 images per class. There are 50000 training images and 10000 test images. **\n",
        "\n",
        "**The dataset is divided into five training batches and one test batch, each with 10000 images. The test batch contains exactly 1000 randomly-selected images from each class. The training batches contain the remaining images in random order, but some training batches may contain more images from one class than another. Between them, the training batches contain exactly 5000 images from each class.**\n",
        "\n",
        "**The label data is just a list of 10,000 numbers ranging from 0 to 9, which corresponds to each of the 10 classes in CIFAR-10.**\n",
        "\n",
        "**airplane : 0**\n",
        "**automobile : 1**\n",
        "**bird : 2**\n",
        "**cat : 3**\n",
        "**deer : 4**\n",
        "**dog : 5**\n",
        "**frog : 6**\n",
        "**horse : 7**\n",
        "**ship : 8**\n",
        "**truck : 9 **"
      ]
    },
    {
      "metadata": {
        "id": "BcMc7U3ZlIxN",
        "colab_type": "text"
      },
      "cell_type": "markdown",
      "source": [
        "**1.** **Import the packages needed for this image Classification project**"
      ]
    },
    {
      "metadata": {
        "id": "tMqnlwXAwQJz",
        "colab_type": "code",
        "outputId": "46712b15-0800-416c-f187-c1c9e821fd64",
        "colab": {
          "base_uri": "https://localhost:8080/",
          "height": 34
        }
      },
      "cell_type": "code",
      "source": [
        "import keras\n",
        "from keras.models import Sequential\n",
        "from keras.utils import np_utils\n",
        "from keras.preprocessing.image import ImageDataGenerator\n",
        "from keras.layers import Dense, Activation, Flatten, Dropout, BatchNormalization\n",
        "from keras.layers import Conv2D, MaxPooling2D\n",
        "from keras.datasets import cifar10\n",
        "from keras import regularizers\n",
        "from keras.callbacks import LearningRateScheduler\n",
        "import numpy as np"
      ],
      "execution_count": 0,
      "outputs": [
        {
          "output_type": "stream",
          "text": [
            "Using TensorFlow backend.\n"
          ],
          "name": "stderr"
        }
      ]
    },
    {
      "metadata": {
        "id": "ZuOmQVqawc8o",
        "colab_type": "text"
      },
      "cell_type": "markdown",
      "source": [
        "**2**.**Download the data for training and test from cifar10**"
      ]
    },
    {
      "metadata": {
        "id": "ofyrC-Kewdwn",
        "colab_type": "code",
        "colab": {}
      },
      "cell_type": "code",
      "source": [
        "(x_train, y_train), (x_test, y_test) = cifar10.load_data()"
      ],
      "execution_count": 0,
      "outputs": []
    },
    {
      "metadata": {
        "id": "6KbWT9Fwwhgs",
        "colab_type": "text"
      },
      "cell_type": "markdown",
      "source": [
        "**3**. **Shape  of the training and test data**"
      ]
    },
    {
      "metadata": {
        "id": "XjQO3cAJwiN5",
        "colab_type": "code",
        "outputId": "5cedab2c-6b28-4191-ed7f-f594e957887d",
        "colab": {
          "base_uri": "https://localhost:8080/",
          "height": 85
        }
      },
      "cell_type": "code",
      "source": [
        "print(x_train.shape)\n",
        "print(y_train.shape)\n",
        "print(x_test.shape)\n",
        "print(y_test.shape)"
      ],
      "execution_count": 0,
      "outputs": [
        {
          "output_type": "stream",
          "text": [
            "(50000, 32, 32, 3)\n",
            "(50000, 1)\n",
            "(10000, 32, 32, 3)\n",
            "(10000, 1)\n"
          ],
          "name": "stdout"
        }
      ]
    },
    {
      "metadata": {
        "id": "DBRYP6XnwlZx",
        "colab_type": "text"
      },
      "cell_type": "markdown",
      "source": [
        "**4**. **Convert the training and test data to float and make it a proper data by substrating the mean and the standard. Convert the label of training and test to one hot encoding**"
      ]
    },
    {
      "metadata": {
        "id": "nzCmdaQgwmFZ",
        "colab_type": "code",
        "colab": {}
      },
      "cell_type": "code",
      "source": [
        "x_train = x_train.astype('float32')\n",
        "x_test = x_test.astype('float32')\n",
        " \n",
        "#z-score\n",
        "mean = np.mean(x_train,axis=(0,1,2,3))\n",
        "std = np.std(x_train,axis=(0,1,2,3))\n",
        "x_train = (x_train-mean)/(std+1e-7)\n",
        "x_test = (x_test-mean)/(std+1e-7)\n",
        " \n",
        "num_classes = 10\n",
        "y_train = np_utils.to_categorical(y_train,num_classes)\n",
        "y_test = np_utils.to_categorical(y_test,num_classes)"
      ],
      "execution_count": 0,
      "outputs": []
    },
    {
      "metadata": {
        "id": "wmwe5etIwqHP",
        "colab_type": "text"
      },
      "cell_type": "markdown",
      "source": [
        "**5**. **Create a sequential model with first two 32 filters of 3 by 3 , **\n",
        "\n",
        "**padding paramter is added as same so that output should have the same size**,  \n",
        "\n",
        "**kernel regrularization is done to reduce overfitting by reducing the complexity of weights, first time imput shape of the image has to be given. Activation is added so that the output became no linear so that the network can learn better and improve so that the validation loss will come down**\n",
        "\n",
        "**Batch normalisation is a technique for improving the performance and stability of neural networks**, **and also makes more sophisticated deep learning architectures** .\n",
        "\n",
        "**The idea is to normalise the inputs of each layer in such a way that they have a mean output** **activation of zero and standard deviation of one. This is analogous to how the inputs to networks are** **standardised.**\n",
        "\n",
        "**Max pooling is used to reduced the number of of paramter the network has to train**.\n",
        "\n",
        "**Dropout is randomly setting a fraction rate of input units to 0 at each update during training time**, **which helps prevent overfitting**.\n",
        "\n",
        "**Layes are added to the neural network with 64 and 128 filters of size 3 by 3 **"
      ]
    },
    {
      "metadata": {
        "id": "GQTV0aIRwqi1",
        "colab_type": "code",
        "outputId": "1c8b9c74-2660-47e5-9ca2-ada280ae4158",
        "colab": {
          "base_uri": "https://localhost:8080/",
          "height": 1020
        }
      },
      "cell_type": "code",
      "source": [
        "weight_decay = 1e-4\n",
        "model = Sequential()\n",
        "model.add(Conv2D(32, (3,3), padding='same', kernel_regularizer=regularizers.l2(weight_decay), input_shape=x_train.shape[1:]))\n",
        "model.add(Activation('elu'))\n",
        "model.add(BatchNormalization())\n",
        "model.add(Conv2D(32, (3,3), padding='same', kernel_regularizer=regularizers.l2(weight_decay)))\n",
        "model.add(Activation('elu'))\n",
        "model.add(BatchNormalization())\n",
        "model.add(MaxPooling2D(pool_size=(2,2)))\n",
        "model.add(Dropout(0.2))\n",
        " \n",
        "model.add(Conv2D(64, (3,3), padding='same', kernel_regularizer=regularizers.l2(weight_decay)))\n",
        "model.add(Activation('elu'))\n",
        "model.add(BatchNormalization())\n",
        "model.add(Conv2D(64, (3,3), padding='same', kernel_regularizer=regularizers.l2(weight_decay)))\n",
        "model.add(Activation('elu'))\n",
        "model.add(BatchNormalization())\n",
        "model.add(MaxPooling2D(pool_size=(2,2)))\n",
        "model.add(Dropout(0.3))\n",
        " \n",
        "model.add(Conv2D(128, (3,3), padding='same', kernel_regularizer=regularizers.l2(weight_decay)))\n",
        "model.add(Activation('elu'))\n",
        "model.add(BatchNormalization())\n",
        "model.add(Conv2D(128, (3,3), padding='same', kernel_regularizer=regularizers.l2(weight_decay)))\n",
        "model.add(Activation('elu'))\n",
        "model.add(BatchNormalization())\n",
        "model.add(MaxPooling2D(pool_size=(2,2)))\n",
        "model.add(Dropout(0.4))\n",
        " \n",
        "model.add(Flatten())\n",
        "model.add(Dense(num_classes, activation='softmax'))\n",
        " \n",
        "model.summary()"
      ],
      "execution_count": 0,
      "outputs": [
        {
          "output_type": "stream",
          "text": [
            "_________________________________________________________________\n",
            "Layer (type)                 Output Shape              Param #   \n",
            "=================================================================\n",
            "conv2d_1 (Conv2D)            (None, 32, 32, 32)        896       \n",
            "_________________________________________________________________\n",
            "activation_1 (Activation)    (None, 32, 32, 32)        0         \n",
            "_________________________________________________________________\n",
            "batch_normalization_1 (Batch (None, 32, 32, 32)        128       \n",
            "_________________________________________________________________\n",
            "conv2d_2 (Conv2D)            (None, 32, 32, 32)        9248      \n",
            "_________________________________________________________________\n",
            "activation_2 (Activation)    (None, 32, 32, 32)        0         \n",
            "_________________________________________________________________\n",
            "batch_normalization_2 (Batch (None, 32, 32, 32)        128       \n",
            "_________________________________________________________________\n",
            "max_pooling2d_1 (MaxPooling2 (None, 16, 16, 32)        0         \n",
            "_________________________________________________________________\n",
            "dropout_1 (Dropout)          (None, 16, 16, 32)        0         \n",
            "_________________________________________________________________\n",
            "conv2d_3 (Conv2D)            (None, 16, 16, 64)        18496     \n",
            "_________________________________________________________________\n",
            "activation_3 (Activation)    (None, 16, 16, 64)        0         \n",
            "_________________________________________________________________\n",
            "batch_normalization_3 (Batch (None, 16, 16, 64)        256       \n",
            "_________________________________________________________________\n",
            "conv2d_4 (Conv2D)            (None, 16, 16, 64)        36928     \n",
            "_________________________________________________________________\n",
            "activation_4 (Activation)    (None, 16, 16, 64)        0         \n",
            "_________________________________________________________________\n",
            "batch_normalization_4 (Batch (None, 16, 16, 64)        256       \n",
            "_________________________________________________________________\n",
            "max_pooling2d_2 (MaxPooling2 (None, 8, 8, 64)          0         \n",
            "_________________________________________________________________\n",
            "dropout_2 (Dropout)          (None, 8, 8, 64)          0         \n",
            "_________________________________________________________________\n",
            "conv2d_5 (Conv2D)            (None, 8, 8, 128)         73856     \n",
            "_________________________________________________________________\n",
            "activation_5 (Activation)    (None, 8, 8, 128)         0         \n",
            "_________________________________________________________________\n",
            "batch_normalization_5 (Batch (None, 8, 8, 128)         512       \n",
            "_________________________________________________________________\n",
            "conv2d_6 (Conv2D)            (None, 8, 8, 128)         147584    \n",
            "_________________________________________________________________\n",
            "activation_6 (Activation)    (None, 8, 8, 128)         0         \n",
            "_________________________________________________________________\n",
            "batch_normalization_6 (Batch (None, 8, 8, 128)         512       \n",
            "_________________________________________________________________\n",
            "max_pooling2d_3 (MaxPooling2 (None, 4, 4, 128)         0         \n",
            "_________________________________________________________________\n",
            "dropout_3 (Dropout)          (None, 4, 4, 128)         0         \n",
            "_________________________________________________________________\n",
            "flatten_1 (Flatten)          (None, 2048)              0         \n",
            "_________________________________________________________________\n",
            "dense_1 (Dense)              (None, 10)                20490     \n",
            "=================================================================\n",
            "Total params: 309,290\n",
            "Trainable params: 308,394\n",
            "Non-trainable params: 896\n",
            "_________________________________________________________________\n"
          ],
          "name": "stdout"
        }
      ]
    },
    {
      "metadata": {
        "id": "yKSZspEawyGh",
        "colab_type": "text"
      },
      "cell_type": "markdown",
      "source": [
        "**6**. **Image generator is used to randomly crop, rotate the shape so that you get different images which can be convolused to get the features of the image**"
      ]
    },
    {
      "metadata": {
        "id": "eqMZx63ewyv-",
        "colab_type": "code",
        "colab": {}
      },
      "cell_type": "code",
      "source": [
        "#data augmentation\n",
        "datagen = ImageDataGenerator(\n",
        "    rotation_range=15,\n",
        "    width_shift_range=0.1,\n",
        "    height_shift_range=0.1,\n",
        "    horizontal_flip=True,\n",
        "    )\n",
        "datagen.fit(x_train)"
      ],
      "execution_count": 0,
      "outputs": []
    },
    {
      "metadata": {
        "id": "Pa9lFSokw25e",
        "colab_type": "text"
      },
      "cell_type": "markdown",
      "source": [
        "**7**. **Learing rate function is created so that initaly the gradient dicent should take bigger step to reach the botton faster but slow down as we reaches near the loss**"
      ]
    },
    {
      "metadata": {
        "id": "JzA6mrOiw3T9",
        "colab_type": "code",
        "colab": {}
      },
      "cell_type": "code",
      "source": [
        "def lr_schedule(epoch):\n",
        "    lrate = 0.001\n",
        "    if epoch > 75:\n",
        "        lrate = 0.0005\n",
        "    if epoch > 100:\n",
        "        lrate = 0.0003\n",
        "    return lrate"
      ],
      "execution_count": 0,
      "outputs": []
    },
    {
      "metadata": {
        "id": "YPXg-T2Pw688",
        "colab_type": "text"
      },
      "cell_type": "markdown",
      "source": [
        "**8**. **RMSprop Optimizer- It restricts the oscillations in the vertical direction. Therefore, we can increase our learning rate and our algorithm could take larger steps in the horizontal direction converging faster.**\n",
        "**Compile It defines the loss function, the optimizer and the metrics**.\n",
        "**Fit_generator**- **Trains the model on data generated batch-by-batch by a Python generator**\n",
        "**The generator is run in parallel to the model, for efficiency**"
      ]
    },
    {
      "metadata": {
        "id": "l7P4uQOBw7bt",
        "colab_type": "code",
        "outputId": "6e5f3f46-04bb-4bdf-a898-490f2e4c810d",
        "colab": {
          "base_uri": "https://localhost:8080/",
          "height": 6834
        }
      },
      "cell_type": "code",
      "source": [
        "batch_size = 64\n",
        "opt_rms = keras.optimizers.rmsprop(lr=0.001,decay=1e-6)\n",
        "model.compile(loss='categorical_crossentropy', optimizer=opt_rms, metrics=['accuracy'])\n",
        "model.fit_generator(datagen.flow(x_train, y_train, batch_size=batch_size),\\\n",
        "                    steps_per_epoch=x_train.shape[0] // batch_size,epochs=200,\\\n",
        "                    verbose=1,validation_data=(x_test,y_test),callbacks=[LearningRateScheduler(lr_schedule)])"
      ],
      "execution_count": 0,
      "outputs": [
        {
          "output_type": "stream",
          "text": [
            "Epoch 1/200\n",
            "781/781 [==============================] - 78s 99ms/step - loss: 1.9086 - acc: 0.4196 - val_loss: 1.6782 - val_acc: 0.5318\n",
            "Epoch 2/200\n",
            "781/781 [==============================] - 73s 94ms/step - loss: 1.2801 - acc: 0.5874 - val_loss: 1.1493 - val_acc: 0.6467\n",
            "Epoch 3/200\n",
            "781/781 [==============================] - 73s 94ms/step - loss: 1.0813 - acc: 0.6502 - val_loss: 1.1463 - val_acc: 0.6675\n",
            "Epoch 4/200\n",
            "781/781 [==============================] - 73s 94ms/step - loss: 0.9783 - acc: 0.6909 - val_loss: 0.8536 - val_acc: 0.7418\n",
            "Epoch 5/200\n",
            "781/781 [==============================] - 74s 94ms/step - loss: 0.9143 - acc: 0.7125 - val_loss: 0.8185 - val_acc: 0.7581\n",
            "Epoch 6/200\n",
            "781/781 [==============================] - 71s 91ms/step - loss: 0.8618 - acc: 0.7359 - val_loss: 0.8578 - val_acc: 0.7437\n",
            "Epoch 7/200\n",
            "781/781 [==============================] - 75s 96ms/step - loss: 0.8255 - acc: 0.7481 - val_loss: 0.7769 - val_acc: 0.7754\n",
            "Epoch 8/200\n",
            "781/781 [==============================] - 73s 94ms/step - loss: 0.7902 - acc: 0.7634 - val_loss: 0.8258 - val_acc: 0.7652\n",
            "Epoch 9/200\n",
            "781/781 [==============================] - 74s 95ms/step - loss: 0.7693 - acc: 0.7717 - val_loss: 0.7129 - val_acc: 0.7947\n",
            "Epoch 10/200\n",
            "781/781 [==============================] - 73s 94ms/step - loss: 0.7552 - acc: 0.7784 - val_loss: 0.7559 - val_acc: 0.7913\n",
            "Epoch 11/200\n",
            "781/781 [==============================] - 72s 92ms/step - loss: 0.7430 - acc: 0.7835 - val_loss: 0.6682 - val_acc: 0.8144\n",
            "Epoch 12/200\n",
            "781/781 [==============================] - 74s 95ms/step - loss: 0.7186 - acc: 0.7927 - val_loss: 0.7140 - val_acc: 0.8062\n",
            "Epoch 13/200\n",
            "781/781 [==============================] - 76s 97ms/step - loss: 0.7164 - acc: 0.7968 - val_loss: 0.6898 - val_acc: 0.8166\n",
            "Epoch 14/200\n",
            "781/781 [==============================] - 74s 95ms/step - loss: 0.7040 - acc: 0.8009 - val_loss: 0.6814 - val_acc: 0.8167\n",
            "Epoch 15/200\n",
            "781/781 [==============================] - 74s 95ms/step - loss: 0.6944 - acc: 0.8050 - val_loss: 0.6453 - val_acc: 0.8264\n",
            "Epoch 16/200\n",
            "781/781 [==============================] - 76s 97ms/step - loss: 0.6892 - acc: 0.8082 - val_loss: 0.6880 - val_acc: 0.8135\n",
            "Epoch 17/200\n",
            "781/781 [==============================] - 74s 94ms/step - loss: 0.6782 - acc: 0.8121 - val_loss: 0.6141 - val_acc: 0.8387\n",
            "Epoch 18/200\n",
            "781/781 [==============================] - 74s 94ms/step - loss: 0.6756 - acc: 0.8134 - val_loss: 0.6492 - val_acc: 0.8272\n",
            "Epoch 19/200\n",
            "781/781 [==============================] - 74s 95ms/step - loss: 0.6696 - acc: 0.8173 - val_loss: 0.6250 - val_acc: 0.8363\n",
            "Epoch 20/200\n",
            "781/781 [==============================] - 74s 95ms/step - loss: 0.6661 - acc: 0.8180 - val_loss: 0.6156 - val_acc: 0.8443\n",
            "Epoch 21/200\n",
            "781/781 [==============================] - 74s 94ms/step - loss: 0.6594 - acc: 0.8204 - val_loss: 0.6439 - val_acc: 0.8295\n",
            "Epoch 22/200\n",
            "781/781 [==============================] - 74s 95ms/step - loss: 0.6583 - acc: 0.8204 - val_loss: 0.7312 - val_acc: 0.8020\n",
            "Epoch 23/200\n",
            "781/781 [==============================] - 72s 92ms/step - loss: 0.6500 - acc: 0.8235 - val_loss: 0.6312 - val_acc: 0.8325\n",
            "Epoch 24/200\n",
            "781/781 [==============================] - 73s 94ms/step - loss: 0.6409 - acc: 0.8288 - val_loss: 0.6405 - val_acc: 0.8367\n",
            "Epoch 25/200\n",
            "781/781 [==============================] - 71s 91ms/step - loss: 0.6439 - acc: 0.8264 - val_loss: 0.5863 - val_acc: 0.8557\n",
            "Epoch 26/200\n",
            "781/781 [==============================] - 73s 94ms/step - loss: 0.6403 - acc: 0.8291 - val_loss: 0.6382 - val_acc: 0.8307\n",
            "Epoch 27/200\n",
            "781/781 [==============================] - 73s 93ms/step - loss: 0.6376 - acc: 0.8286 - val_loss: 0.6121 - val_acc: 0.8435\n",
            "Epoch 28/200\n",
            "781/781 [==============================] - 73s 94ms/step - loss: 0.6311 - acc: 0.8316 - val_loss: 0.6040 - val_acc: 0.8459\n",
            "Epoch 29/200\n",
            "781/781 [==============================] - 73s 93ms/step - loss: 0.6290 - acc: 0.8340 - val_loss: 0.5961 - val_acc: 0.8514\n",
            "Epoch 30/200\n",
            "781/781 [==============================] - 74s 95ms/step - loss: 0.6240 - acc: 0.8352 - val_loss: 0.6366 - val_acc: 0.8387\n",
            "Epoch 31/200\n",
            "781/781 [==============================] - 74s 94ms/step - loss: 0.6273 - acc: 0.8344 - val_loss: 0.6320 - val_acc: 0.8382\n",
            "Epoch 32/200\n",
            "781/781 [==============================] - 74s 95ms/step - loss: 0.6231 - acc: 0.8352 - val_loss: 0.6514 - val_acc: 0.8396\n",
            "Epoch 33/200\n",
            "781/781 [==============================] - 72s 92ms/step - loss: 0.6198 - acc: 0.8373 - val_loss: 0.5803 - val_acc: 0.8550\n",
            "Epoch 34/200\n",
            "781/781 [==============================] - 75s 95ms/step - loss: 0.6196 - acc: 0.8373 - val_loss: 0.5845 - val_acc: 0.8520\n",
            "Epoch 35/200\n",
            "781/781 [==============================] - 73s 94ms/step - loss: 0.6209 - acc: 0.8380 - val_loss: 0.6029 - val_acc: 0.8504\n",
            "Epoch 36/200\n",
            "781/781 [==============================] - 74s 95ms/step - loss: 0.6179 - acc: 0.8384 - val_loss: 0.5978 - val_acc: 0.8541\n",
            "Epoch 37/200\n",
            "781/781 [==============================] - 75s 96ms/step - loss: 0.6076 - acc: 0.8420 - val_loss: 0.5874 - val_acc: 0.8557\n",
            "Epoch 38/200\n",
            "781/781 [==============================] - 75s 96ms/step - loss: 0.6166 - acc: 0.8400 - val_loss: 0.6372 - val_acc: 0.8405\n",
            "Epoch 39/200\n",
            "781/781 [==============================] - 72s 92ms/step - loss: 0.6145 - acc: 0.8399 - val_loss: 0.5653 - val_acc: 0.8618\n",
            "Epoch 40/200\n",
            "781/781 [==============================] - 74s 95ms/step - loss: 0.6076 - acc: 0.8422 - val_loss: 0.6240 - val_acc: 0.8445\n",
            "Epoch 41/200\n",
            "781/781 [==============================] - 75s 96ms/step - loss: 0.6033 - acc: 0.8434 - val_loss: 0.5559 - val_acc: 0.8685\n",
            "Epoch 42/200\n",
            "781/781 [==============================] - 73s 93ms/step - loss: 0.6083 - acc: 0.8425 - val_loss: 0.5882 - val_acc: 0.8523\n",
            "Epoch 43/200\n",
            "781/781 [==============================] - 74s 95ms/step - loss: 0.6025 - acc: 0.8448 - val_loss: 0.5918 - val_acc: 0.8528\n",
            "Epoch 44/200\n",
            "781/781 [==============================] - 75s 96ms/step - loss: 0.6077 - acc: 0.8430 - val_loss: 0.5924 - val_acc: 0.8527\n",
            "Epoch 45/200\n",
            "781/781 [==============================] - 76s 97ms/step - loss: 0.6023 - acc: 0.8447 - val_loss: 0.6636 - val_acc: 0.8308\n",
            "Epoch 46/200\n",
            "781/781 [==============================] - 73s 93ms/step - loss: 0.6016 - acc: 0.8456 - val_loss: 0.5931 - val_acc: 0.8531\n",
            "Epoch 47/200\n",
            "781/781 [==============================] - 73s 94ms/step - loss: 0.6035 - acc: 0.8452 - val_loss: 0.5990 - val_acc: 0.8566\n",
            "Epoch 48/200\n",
            "781/781 [==============================] - 74s 94ms/step - loss: 0.6002 - acc: 0.8458 - val_loss: 0.5802 - val_acc: 0.8592\n",
            "Epoch 49/200\n",
            "781/781 [==============================] - 73s 93ms/step - loss: 0.5965 - acc: 0.8467 - val_loss: 0.6506 - val_acc: 0.8405\n",
            "Epoch 50/200\n",
            "781/781 [==============================] - 72s 92ms/step - loss: 0.5987 - acc: 0.8476 - val_loss: 0.5673 - val_acc: 0.8656\n",
            "Epoch 51/200\n",
            "781/781 [==============================] - 74s 95ms/step - loss: 0.5963 - acc: 0.8494 - val_loss: 0.7278 - val_acc: 0.8208\n",
            "Epoch 52/200\n",
            "781/781 [==============================] - 73s 93ms/step - loss: 0.5947 - acc: 0.8477 - val_loss: 0.6129 - val_acc: 0.8540\n",
            "Epoch 53/200\n",
            "781/781 [==============================] - 75s 96ms/step - loss: 0.5931 - acc: 0.8483 - val_loss: 0.6459 - val_acc: 0.8386\n",
            "Epoch 54/200\n",
            "781/781 [==============================] - 75s 96ms/step - loss: 0.5964 - acc: 0.8471 - val_loss: 0.5809 - val_acc: 0.8622\n",
            "Epoch 55/200\n",
            "781/781 [==============================] - 74s 95ms/step - loss: 0.5930 - acc: 0.8469 - val_loss: 0.6629 - val_acc: 0.8350\n",
            "Epoch 56/200\n",
            "781/781 [==============================] - 73s 93ms/step - loss: 0.5934 - acc: 0.8479 - val_loss: 0.6009 - val_acc: 0.8584\n",
            "Epoch 57/200\n",
            "781/781 [==============================] - 74s 95ms/step - loss: 0.5905 - acc: 0.8504 - val_loss: 0.5875 - val_acc: 0.8585\n",
            "Epoch 58/200\n",
            "781/781 [==============================] - 72s 93ms/step - loss: 0.5931 - acc: 0.8490 - val_loss: 0.5802 - val_acc: 0.8607\n",
            "Epoch 59/200\n",
            "781/781 [==============================] - 74s 95ms/step - loss: 0.5897 - acc: 0.8482 - val_loss: 0.6179 - val_acc: 0.8491\n",
            "Epoch 60/200\n",
            "781/781 [==============================] - 75s 96ms/step - loss: 0.5856 - acc: 0.8513 - val_loss: 0.5819 - val_acc: 0.8633\n",
            "Epoch 61/200\n",
            "781/781 [==============================] - 77s 98ms/step - loss: 0.5836 - acc: 0.8521 - val_loss: 0.5956 - val_acc: 0.8513\n",
            "Epoch 62/200\n",
            "781/781 [==============================] - 72s 93ms/step - loss: 0.5917 - acc: 0.8506 - val_loss: 0.6291 - val_acc: 0.8499\n",
            "Epoch 63/200\n",
            "781/781 [==============================] - 75s 96ms/step - loss: 0.5865 - acc: 0.8522 - val_loss: 0.5560 - val_acc: 0.8679\n",
            "Epoch 64/200\n",
            "781/781 [==============================] - 74s 95ms/step - loss: 0.5844 - acc: 0.8525 - val_loss: 0.5820 - val_acc: 0.8602\n",
            "Epoch 65/200\n",
            "781/781 [==============================] - 74s 95ms/step - loss: 0.5873 - acc: 0.8514 - val_loss: 0.6109 - val_acc: 0.8506\n",
            "Epoch 66/200\n",
            "781/781 [==============================] - 75s 96ms/step - loss: 0.5869 - acc: 0.8510 - val_loss: 0.5470 - val_acc: 0.8706\n",
            "Epoch 67/200\n",
            "781/781 [==============================] - 73s 94ms/step - loss: 0.5843 - acc: 0.8513 - val_loss: 0.6117 - val_acc: 0.8508\n",
            "Epoch 68/200\n",
            "781/781 [==============================] - 74s 95ms/step - loss: 0.5827 - acc: 0.8519 - val_loss: 0.5916 - val_acc: 0.8591\n",
            "Epoch 69/200\n",
            "781/781 [==============================] - 75s 97ms/step - loss: 0.5816 - acc: 0.8532 - val_loss: 0.6524 - val_acc: 0.8381\n",
            "Epoch 70/200\n",
            "781/781 [==============================] - 73s 94ms/step - loss: 0.5790 - acc: 0.8531 - val_loss: 0.5878 - val_acc: 0.8621\n",
            "Epoch 71/200\n",
            "781/781 [==============================] - 74s 95ms/step - loss: 0.5799 - acc: 0.8549 - val_loss: 0.6278 - val_acc: 0.8451\n",
            "Epoch 72/200\n",
            "781/781 [==============================] - 72s 92ms/step - loss: 0.5835 - acc: 0.8520 - val_loss: 0.6104 - val_acc: 0.8483\n",
            "Epoch 73/200\n",
            "781/781 [==============================] - 73s 94ms/step - loss: 0.5760 - acc: 0.8562 - val_loss: 0.6211 - val_acc: 0.8495\n",
            "Epoch 74/200\n",
            "781/781 [==============================] - 73s 94ms/step - loss: 0.5757 - acc: 0.8541 - val_loss: 0.6126 - val_acc: 0.8530\n",
            "Epoch 75/200\n",
            "781/781 [==============================] - 73s 93ms/step - loss: 0.5738 - acc: 0.8560 - val_loss: 0.5818 - val_acc: 0.8576\n",
            "Epoch 76/200\n",
            "781/781 [==============================] - 74s 95ms/step - loss: 0.5801 - acc: 0.8541 - val_loss: 0.6255 - val_acc: 0.8506\n",
            "Epoch 77/200\n",
            "781/781 [==============================] - 75s 96ms/step - loss: 0.5336 - acc: 0.8677 - val_loss: 0.5866 - val_acc: 0.8636\n",
            "Epoch 78/200\n",
            "781/781 [==============================] - 75s 96ms/step - loss: 0.5130 - acc: 0.8737 - val_loss: 0.5431 - val_acc: 0.8713\n",
            "Epoch 79/200\n",
            "781/781 [==============================] - 75s 96ms/step - loss: 0.5063 - acc: 0.8752 - val_loss: 0.5286 - val_acc: 0.8744\n",
            "Epoch 80/200\n",
            "781/781 [==============================] - 75s 96ms/step - loss: 0.5015 - acc: 0.8774 - val_loss: 0.5288 - val_acc: 0.8771\n",
            "Epoch 81/200\n",
            "781/781 [==============================] - 74s 94ms/step - loss: 0.4916 - acc: 0.8782 - val_loss: 0.5151 - val_acc: 0.8782\n",
            "Epoch 82/200\n",
            "781/781 [==============================] - 73s 94ms/step - loss: 0.4949 - acc: 0.8760 - val_loss: 0.5266 - val_acc: 0.8741\n",
            "Epoch 83/200\n",
            "781/781 [==============================] - 71s 91ms/step - loss: 0.4864 - acc: 0.8785 - val_loss: 0.5195 - val_acc: 0.8773\n",
            "Epoch 84/200\n",
            "781/781 [==============================] - 73s 94ms/step - loss: 0.4826 - acc: 0.8787 - val_loss: 0.4985 - val_acc: 0.8803\n",
            "Epoch 85/200\n",
            "781/781 [==============================] - 73s 93ms/step - loss: 0.4812 - acc: 0.8794 - val_loss: 0.5200 - val_acc: 0.8761\n",
            "Epoch 86/200\n",
            "781/781 [==============================] - 73s 93ms/step - loss: 0.4759 - acc: 0.8814 - val_loss: 0.5619 - val_acc: 0.8623\n",
            "Epoch 87/200\n",
            "781/781 [==============================] - 73s 93ms/step - loss: 0.4748 - acc: 0.8790 - val_loss: 0.5331 - val_acc: 0.8690\n",
            "Epoch 88/200\n",
            "781/781 [==============================] - 75s 95ms/step - loss: 0.4730 - acc: 0.8816 - val_loss: 0.5332 - val_acc: 0.8687\n",
            "Epoch 89/200\n",
            "781/781 [==============================] - 72s 93ms/step - loss: 0.4720 - acc: 0.8816 - val_loss: 0.5020 - val_acc: 0.8767\n",
            "Epoch 90/200\n",
            "781/781 [==============================] - 73s 94ms/step - loss: 0.4691 - acc: 0.8811 - val_loss: 0.5059 - val_acc: 0.8772\n",
            "Epoch 91/200\n",
            "781/781 [==============================] - 75s 97ms/step - loss: 0.4673 - acc: 0.8830 - val_loss: 0.4981 - val_acc: 0.8745\n",
            "Epoch 92/200\n",
            "781/781 [==============================] - 75s 96ms/step - loss: 0.4638 - acc: 0.8821 - val_loss: 0.5311 - val_acc: 0.8716\n",
            "Epoch 93/200\n",
            "781/781 [==============================] - 75s 96ms/step - loss: 0.4631 - acc: 0.8811 - val_loss: 0.4984 - val_acc: 0.8779\n",
            "Epoch 94/200\n",
            "781/781 [==============================] - 72s 93ms/step - loss: 0.4662 - acc: 0.8824 - val_loss: 0.5040 - val_acc: 0.8778\n",
            "Epoch 95/200\n",
            "781/781 [==============================] - 75s 96ms/step - loss: 0.4621 - acc: 0.8805 - val_loss: 0.4999 - val_acc: 0.8777\n",
            "Epoch 96/200\n",
            "781/781 [==============================] - 74s 95ms/step - loss: 0.4610 - acc: 0.8815 - val_loss: 0.5196 - val_acc: 0.8727\n",
            "Epoch 97/200\n",
            "781/781 [==============================] - 73s 94ms/step - loss: 0.4614 - acc: 0.8827 - val_loss: 0.5051 - val_acc: 0.8772\n",
            "Epoch 98/200\n",
            "781/781 [==============================] - 75s 96ms/step - loss: 0.4634 - acc: 0.8814 - val_loss: 0.4965 - val_acc: 0.8795\n",
            "Epoch 99/200\n",
            "781/781 [==============================] - 71s 91ms/step - loss: 0.4581 - acc: 0.8827 - val_loss: 0.4866 - val_acc: 0.8830\n",
            "Epoch 100/200\n",
            "781/781 [==============================] - 73s 94ms/step - loss: 0.4535 - acc: 0.8831 - val_loss: 0.4849 - val_acc: 0.8850\n",
            "Epoch 101/200\n",
            "781/781 [==============================] - 72s 92ms/step - loss: 0.4553 - acc: 0.8819 - val_loss: 0.4943 - val_acc: 0.8800\n",
            "Epoch 102/200\n",
            "781/781 [==============================] - 74s 95ms/step - loss: 0.4359 - acc: 0.8890 - val_loss: 0.5024 - val_acc: 0.8785\n",
            "Epoch 103/200\n",
            "781/781 [==============================] - 73s 93ms/step - loss: 0.4282 - acc: 0.8912 - val_loss: 0.4754 - val_acc: 0.8879\n",
            "Epoch 104/200\n",
            "781/781 [==============================] - 73s 94ms/step - loss: 0.4192 - acc: 0.8946 - val_loss: 0.4522 - val_acc: 0.8932\n",
            "Epoch 105/200\n",
            "781/781 [==============================] - 74s 95ms/step - loss: 0.4229 - acc: 0.8926 - val_loss: 0.4658 - val_acc: 0.8888\n",
            "Epoch 106/200\n",
            "781/781 [==============================] - 75s 96ms/step - loss: 0.4137 - acc: 0.8952 - val_loss: 0.4757 - val_acc: 0.8839\n",
            "Epoch 107/200\n",
            "781/781 [==============================] - 74s 94ms/step - loss: 0.4162 - acc: 0.8932 - val_loss: 0.4554 - val_acc: 0.8910\n",
            "Epoch 108/200\n",
            "781/781 [==============================] - 74s 94ms/step - loss: 0.4165 - acc: 0.8928 - val_loss: 0.4727 - val_acc: 0.8876\n",
            "Epoch 109/200\n",
            "781/781 [==============================] - 75s 96ms/step - loss: 0.4122 - acc: 0.8962 - val_loss: 0.4641 - val_acc: 0.8844\n",
            "Epoch 110/200\n",
            "781/781 [==============================] - 73s 93ms/step - loss: 0.4097 - acc: 0.8951 - val_loss: 0.4699 - val_acc: 0.8833\n",
            "Epoch 111/200\n",
            "781/781 [==============================] - 74s 94ms/step - loss: 0.4085 - acc: 0.8957 - val_loss: 0.4738 - val_acc: 0.8834\n",
            "Epoch 112/200\n",
            "781/781 [==============================] - 74s 95ms/step - loss: 0.4086 - acc: 0.8946 - val_loss: 0.4790 - val_acc: 0.8813\n",
            "Epoch 113/200\n",
            "781/781 [==============================] - 72s 93ms/step - loss: 0.4059 - acc: 0.8971 - val_loss: 0.4756 - val_acc: 0.8788\n",
            "Epoch 114/200\n",
            "781/781 [==============================] - 73s 93ms/step - loss: 0.4047 - acc: 0.8952 - val_loss: 0.4511 - val_acc: 0.8898\n",
            "Epoch 115/200\n",
            "781/781 [==============================] - 73s 93ms/step - loss: 0.4043 - acc: 0.8965 - val_loss: 0.4695 - val_acc: 0.8843\n",
            "Epoch 116/200\n",
            "781/781 [==============================] - 74s 95ms/step - loss: 0.4002 - acc: 0.8967 - val_loss: 0.4233 - val_acc: 0.8974\n",
            "Epoch 117/200\n",
            "781/781 [==============================] - 72s 92ms/step - loss: 0.4031 - acc: 0.8963 - val_loss: 0.4523 - val_acc: 0.8879\n",
            "Epoch 118/200\n",
            "781/781 [==============================] - 74s 95ms/step - loss: 0.4003 - acc: 0.8954 - val_loss: 0.4527 - val_acc: 0.8893\n",
            "Epoch 119/200\n",
            "781/781 [==============================] - 74s 95ms/step - loss: 0.4015 - acc: 0.8963 - val_loss: 0.4478 - val_acc: 0.8930\n",
            "Epoch 120/200\n",
            "781/781 [==============================] - 73s 93ms/step - loss: 0.3943 - acc: 0.8976 - val_loss: 0.4467 - val_acc: 0.8920\n",
            "Epoch 121/200\n",
            "781/781 [==============================] - 73s 94ms/step - loss: 0.3973 - acc: 0.8980 - val_loss: 0.4667 - val_acc: 0.8855\n",
            "Epoch 122/200\n",
            "781/781 [==============================] - 73s 93ms/step - loss: 0.3984 - acc: 0.8972 - val_loss: 0.4593 - val_acc: 0.8898\n",
            "Epoch 123/200\n",
            "781/781 [==============================] - 74s 95ms/step - loss: 0.4006 - acc: 0.8946 - val_loss: 0.4636 - val_acc: 0.8867\n",
            "Epoch 124/200\n",
            "781/781 [==============================] - 74s 95ms/step - loss: 0.3962 - acc: 0.8960 - val_loss: 0.4670 - val_acc: 0.8883\n",
            "Epoch 125/200\n",
            "781/781 [==============================] - 73s 93ms/step - loss: 0.3947 - acc: 0.8985 - val_loss: 0.4561 - val_acc: 0.8860\n",
            "Epoch 126/200\n",
            "781/781 [==============================] - 75s 96ms/step - loss: 0.3934 - acc: 0.8988 - val_loss: 0.4443 - val_acc: 0.8893\n",
            "Epoch 127/200\n",
            "781/781 [==============================] - 74s 94ms/step - loss: 0.3872 - acc: 0.8992 - val_loss: 0.4399 - val_acc: 0.8932\n",
            "Epoch 128/200\n",
            "781/781 [==============================] - 73s 94ms/step - loss: 0.3927 - acc: 0.8970 - val_loss: 0.4415 - val_acc: 0.8906\n",
            "Epoch 129/200\n",
            "781/781 [==============================] - 53s 68ms/step - loss: 0.3888 - acc: 0.8992 - val_loss: 0.4498 - val_acc: 0.8889\n",
            "Epoch 130/200\n",
            "781/781 [==============================] - 39s 50ms/step - loss: 0.3939 - acc: 0.8974 - val_loss: 0.4709 - val_acc: 0.8838\n",
            "Epoch 131/200\n",
            "781/781 [==============================] - 38s 48ms/step - loss: 0.3886 - acc: 0.8990 - val_loss: 0.4469 - val_acc: 0.8892\n",
            "Epoch 132/200\n",
            "781/781 [==============================] - 42s 54ms/step - loss: 0.3885 - acc: 0.8973 - val_loss: 0.4580 - val_acc: 0.8847\n",
            "Epoch 133/200\n",
            "781/781 [==============================] - 41s 52ms/step - loss: 0.3861 - acc: 0.8994 - val_loss: 0.4794 - val_acc: 0.8819\n",
            "Epoch 134/200\n",
            "781/781 [==============================] - 40s 51ms/step - loss: 0.3903 - acc: 0.8978 - val_loss: 0.4283 - val_acc: 0.8953\n",
            "Epoch 135/200\n",
            "781/781 [==============================] - 38s 49ms/step - loss: 0.3907 - acc: 0.8987 - val_loss: 0.4493 - val_acc: 0.8927\n",
            "Epoch 136/200\n",
            "781/781 [==============================] - 37s 48ms/step - loss: 0.3810 - acc: 0.9010 - val_loss: 0.4405 - val_acc: 0.8923\n",
            "Epoch 137/200\n",
            "781/781 [==============================] - 42s 54ms/step - loss: 0.3953 - acc: 0.8955 - val_loss: 0.4873 - val_acc: 0.8803\n",
            "Epoch 138/200\n",
            "781/781 [==============================] - 41s 52ms/step - loss: 0.3846 - acc: 0.8995 - val_loss: 0.4690 - val_acc: 0.8845\n",
            "Epoch 139/200\n",
            "781/781 [==============================] - 40s 51ms/step - loss: 0.3783 - acc: 0.9004 - val_loss: 0.4533 - val_acc: 0.8863\n",
            "Epoch 140/200\n",
            "781/781 [==============================] - 39s 50ms/step - loss: 0.3845 - acc: 0.8994 - val_loss: 0.4792 - val_acc: 0.8826\n",
            "Epoch 141/200\n",
            "781/781 [==============================] - 37s 48ms/step - loss: 0.3820 - acc: 0.9008 - val_loss: 0.4441 - val_acc: 0.8895\n",
            "Epoch 142/200\n",
            "781/781 [==============================] - 37s 48ms/step - loss: 0.3881 - acc: 0.8974 - val_loss: 0.4464 - val_acc: 0.8894\n",
            "Epoch 143/200\n",
            "781/781 [==============================] - 42s 53ms/step - loss: 0.3806 - acc: 0.9008 - val_loss: 0.4419 - val_acc: 0.8911\n",
            "Epoch 144/200\n",
            "781/781 [==============================] - 41s 52ms/step - loss: 0.3814 - acc: 0.8997 - val_loss: 0.4759 - val_acc: 0.8833\n",
            "Epoch 145/200\n",
            "781/781 [==============================] - 40s 51ms/step - loss: 0.3847 - acc: 0.9003 - val_loss: 0.4729 - val_acc: 0.8798\n",
            "Epoch 146/200\n",
            "781/781 [==============================] - 38s 49ms/step - loss: 0.3797 - acc: 0.9005 - val_loss: 0.4674 - val_acc: 0.8834\n",
            "Epoch 147/200\n",
            "781/781 [==============================] - 37s 48ms/step - loss: 0.3807 - acc: 0.8993 - val_loss: 0.4340 - val_acc: 0.8970\n",
            "Epoch 148/200\n",
            "781/781 [==============================] - 41s 53ms/step - loss: 0.3800 - acc: 0.8997 - val_loss: 0.4533 - val_acc: 0.8879\n",
            "Epoch 149/200\n",
            "781/781 [==============================] - 40s 51ms/step - loss: 0.3742 - acc: 0.9023 - val_loss: 0.4785 - val_acc: 0.8799\n",
            "Epoch 150/200\n",
            "781/781 [==============================] - 39s 50ms/step - loss: 0.3837 - acc: 0.8987 - val_loss: 0.4300 - val_acc: 0.8941\n",
            "Epoch 151/200\n",
            "781/781 [==============================] - 38s 48ms/step - loss: 0.3811 - acc: 0.8992 - val_loss: 0.4717 - val_acc: 0.8807\n",
            "Epoch 152/200\n",
            "781/781 [==============================] - 38s 48ms/step - loss: 0.3747 - acc: 0.9014 - val_loss: 0.4340 - val_acc: 0.8924\n",
            "Epoch 153/200\n",
            "781/781 [==============================] - 42s 53ms/step - loss: 0.3822 - acc: 0.8995 - val_loss: 0.4498 - val_acc: 0.8876\n",
            "Epoch 154/200\n",
            "781/781 [==============================] - 40s 51ms/step - loss: 0.3738 - acc: 0.9004 - val_loss: 0.4559 - val_acc: 0.8870\n",
            "Epoch 155/200\n",
            "781/781 [==============================] - 39s 50ms/step - loss: 0.3761 - acc: 0.9010 - val_loss: 0.4750 - val_acc: 0.8810\n",
            "Epoch 156/200\n",
            "781/781 [==============================] - 37s 48ms/step - loss: 0.3775 - acc: 0.9012 - val_loss: 0.4370 - val_acc: 0.8923\n",
            "Epoch 157/200\n",
            "781/781 [==============================] - 42s 54ms/step - loss: 0.3805 - acc: 0.8996 - val_loss: 0.4343 - val_acc: 0.8895\n",
            "Epoch 158/200\n",
            "781/781 [==============================] - 41s 52ms/step - loss: 0.3742 - acc: 0.9013 - val_loss: 0.5051 - val_acc: 0.8762\n",
            "Epoch 159/200\n",
            "781/781 [==============================] - 40s 51ms/step - loss: 0.3753 - acc: 0.9009 - val_loss: 0.4850 - val_acc: 0.8786\n",
            "Epoch 160/200\n",
            "781/781 [==============================] - 40s 51ms/step - loss: 0.3793 - acc: 0.8999 - val_loss: 0.4307 - val_acc: 0.8916\n",
            "Epoch 161/200\n",
            "781/781 [==============================] - 38s 49ms/step - loss: 0.3754 - acc: 0.9022 - val_loss: 0.4268 - val_acc: 0.8957\n",
            "Epoch 162/200\n",
            "781/781 [==============================] - 42s 54ms/step - loss: 0.3703 - acc: 0.9008 - val_loss: 0.4533 - val_acc: 0.8880\n",
            "Epoch 163/200\n",
            "781/781 [==============================] - 41s 53ms/step - loss: 0.3707 - acc: 0.9027 - val_loss: 0.4537 - val_acc: 0.8834\n",
            "Epoch 164/200\n",
            "781/781 [==============================] - 40s 51ms/step - loss: 0.3717 - acc: 0.9026 - val_loss: 0.4330 - val_acc: 0.8914\n",
            "Epoch 165/200\n",
            "781/781 [==============================] - 38s 49ms/step - loss: 0.3744 - acc: 0.9013 - val_loss: 0.4314 - val_acc: 0.8973\n",
            "Epoch 166/200\n",
            "781/781 [==============================] - 37s 48ms/step - loss: 0.3721 - acc: 0.9010 - val_loss: 0.4557 - val_acc: 0.8866\n",
            "Epoch 167/200\n",
            "781/781 [==============================] - 42s 54ms/step - loss: 0.3763 - acc: 0.9012 - val_loss: 0.4577 - val_acc: 0.8862\n",
            "Epoch 168/200\n",
            "781/781 [==============================] - 41s 53ms/step - loss: 0.3740 - acc: 0.9012 - val_loss: 0.4283 - val_acc: 0.8955\n",
            "Epoch 169/200\n",
            "781/781 [==============================] - 40s 51ms/step - loss: 0.3702 - acc: 0.9020 - val_loss: 0.4567 - val_acc: 0.8852\n",
            "Epoch 170/200\n",
            "781/781 [==============================] - 39s 50ms/step - loss: 0.3720 - acc: 0.9027 - val_loss: 0.4463 - val_acc: 0.8887\n",
            "Epoch 171/200\n",
            "781/781 [==============================] - 38s 48ms/step - loss: 0.3727 - acc: 0.9009 - val_loss: 0.4568 - val_acc: 0.8853\n",
            "Epoch 172/200\n",
            "781/781 [==============================] - 38s 48ms/step - loss: 0.3708 - acc: 0.9007 - val_loss: 0.4346 - val_acc: 0.8891\n",
            "Epoch 173/200\n",
            "781/781 [==============================] - 42s 53ms/step - loss: 0.3749 - acc: 0.8997 - val_loss: 0.4501 - val_acc: 0.8865\n",
            "Epoch 174/200\n",
            "781/781 [==============================] - 41s 52ms/step - loss: 0.3723 - acc: 0.9001 - val_loss: 0.4664 - val_acc: 0.8842\n",
            "Epoch 175/200\n",
            "781/781 [==============================] - 40s 51ms/step - loss: 0.3718 - acc: 0.9023 - val_loss: 0.4280 - val_acc: 0.8965\n",
            "Epoch 176/200\n",
            "781/781 [==============================] - 39s 50ms/step - loss: 0.3727 - acc: 0.9000 - val_loss: 0.4443 - val_acc: 0.8879\n",
            "Epoch 177/200\n",
            "781/781 [==============================] - 38s 48ms/step - loss: 0.3720 - acc: 0.9014 - val_loss: 0.4381 - val_acc: 0.8900\n",
            "Epoch 178/200\n",
            "781/781 [==============================] - 42s 53ms/step - loss: 0.3699 - acc: 0.9025 - val_loss: 0.4691 - val_acc: 0.8788\n",
            "Epoch 179/200\n",
            "781/781 [==============================] - 41s 52ms/step - loss: 0.3735 - acc: 0.9008 - val_loss: 0.4533 - val_acc: 0.8863\n",
            "Epoch 180/200\n",
            "781/781 [==============================] - 40s 51ms/step - loss: 0.3727 - acc: 0.9021 - val_loss: 0.4694 - val_acc: 0.8819\n",
            "Epoch 181/200\n",
            "781/781 [==============================] - 38s 49ms/step - loss: 0.3706 - acc: 0.9015 - val_loss: 0.4387 - val_acc: 0.8884\n",
            "Epoch 182/200\n",
            "781/781 [==============================] - 37s 48ms/step - loss: 0.3679 - acc: 0.9022 - val_loss: 0.4515 - val_acc: 0.8866\n",
            "Epoch 183/200\n",
            "781/781 [==============================] - 42s 54ms/step - loss: 0.3693 - acc: 0.9008 - val_loss: 0.4393 - val_acc: 0.8905\n",
            "Epoch 184/200\n",
            "781/781 [==============================] - 42s 54ms/step - loss: 0.3711 - acc: 0.9010 - val_loss: 0.4433 - val_acc: 0.8884\n",
            "Epoch 185/200\n",
            "781/781 [==============================] - 40s 52ms/step - loss: 0.3715 - acc: 0.9025 - val_loss: 0.4361 - val_acc: 0.8883\n",
            "Epoch 186/200\n",
            "781/781 [==============================] - 39s 50ms/step - loss: 0.3662 - acc: 0.9021 - val_loss: 0.4611 - val_acc: 0.8819\n",
            "Epoch 187/200\n",
            "781/781 [==============================] - 39s 50ms/step - loss: 0.3683 - acc: 0.9022 - val_loss: 0.4642 - val_acc: 0.8852\n",
            "Epoch 188/200\n",
            "781/781 [==============================] - 42s 54ms/step - loss: 0.3651 - acc: 0.9026 - val_loss: 0.4404 - val_acc: 0.8911\n",
            "Epoch 189/200\n",
            "781/781 [==============================] - 42s 53ms/step - loss: 0.3681 - acc: 0.9019 - val_loss: 0.4585 - val_acc: 0.8838\n",
            "Epoch 190/200\n",
            "781/781 [==============================] - 41s 52ms/step - loss: 0.3676 - acc: 0.9030 - val_loss: 0.4399 - val_acc: 0.8912\n",
            "Epoch 191/200\n",
            "781/781 [==============================] - 39s 50ms/step - loss: 0.3700 - acc: 0.9013 - val_loss: 0.4374 - val_acc: 0.8899\n",
            "Epoch 192/200\n",
            "781/781 [==============================] - 38s 49ms/step - loss: 0.3693 - acc: 0.9023 - val_loss: 0.4335 - val_acc: 0.8929\n",
            "Epoch 193/200\n",
            "781/781 [==============================] - 37s 48ms/step - loss: 0.3686 - acc: 0.9016 - val_loss: 0.4167 - val_acc: 0.8984\n",
            "Epoch 194/200\n",
            "781/781 [==============================] - 42s 53ms/step - loss: 0.3657 - acc: 0.9027 - val_loss: 0.4353 - val_acc: 0.8916\n",
            "Epoch 195/200\n",
            "781/781 [==============================] - 40s 52ms/step - loss: 0.3724 - acc: 0.9012 - val_loss: 0.4517 - val_acc: 0.8854\n",
            "Epoch 196/200\n",
            "781/781 [==============================] - 39s 50ms/step - loss: 0.3681 - acc: 0.9015 - val_loss: 0.4323 - val_acc: 0.8915\n",
            "Epoch 197/200\n",
            "781/781 [==============================] - 38s 49ms/step - loss: 0.3603 - acc: 0.9055 - val_loss: 0.4258 - val_acc: 0.8950\n",
            "Epoch 198/200\n",
            "781/781 [==============================] - 38s 48ms/step - loss: 0.3668 - acc: 0.9027 - val_loss: 0.4630 - val_acc: 0.8818\n",
            "Epoch 199/200\n",
            "781/781 [==============================] - 42s 54ms/step - loss: 0.3603 - acc: 0.9046 - val_loss: 0.4502 - val_acc: 0.8888\n",
            "Epoch 200/200\n",
            "781/781 [==============================] - 40s 52ms/step - loss: 0.3659 - acc: 0.9037 - val_loss: 0.4353 - val_acc: 0.8914\n"
          ],
          "name": "stdout"
        },
        {
          "output_type": "execute_result",
          "data": {
            "text/plain": [
              "<keras.callbacks.History at 0x7f9ef6b05898>"
            ]
          },
          "metadata": {
            "tags": []
          },
          "execution_count": 8
        }
      ]
    },
    {
      "metadata": {
        "id": "iegsujnQhJM2",
        "colab_type": "text"
      },
      "cell_type": "markdown",
      "source": [
        "**9**. **Evaluate the model for test and print the result**"
      ]
    },
    {
      "metadata": {
        "id": "ccO9Fj06hKDK",
        "colab_type": "code",
        "outputId": "f6ec6f56-510c-499f-f323-7a162800cd20",
        "colab": {
          "base_uri": "https://localhost:8080/",
          "height": 68
        }
      },
      "cell_type": "code",
      "source": [
        "#testing\n",
        "scores = model.evaluate(x_test, y_test, batch_size=128, verbose=1)\n",
        "print('\\nTest result: %.3f loss: %.3f' % (scores[1]*100,scores[0]))"
      ],
      "execution_count": 0,
      "outputs": [
        {
          "output_type": "stream",
          "text": [
            "10000/10000 [==============================] - 2s 161us/step\n",
            "\n",
            "Test result: 89.140 loss: 0.435\n"
          ],
          "name": "stdout"
        }
      ]
    },
    {
      "metadata": {
        "id": "fP-TDxniiDzj",
        "colab_type": "text"
      },
      "cell_type": "markdown",
      "source": [
        "**10**. **Import the packages need to show the graph**"
      ]
    },
    {
      "metadata": {
        "id": "AsC8RzPCiEer",
        "colab_type": "code",
        "colab": {}
      },
      "cell_type": "code",
      "source": [
        "from matplotlib import pyplot\n",
        "from scipy.misc import toimage\n",
        "import keras as tf\n",
        "from keras.models import model_from_json"
      ],
      "execution_count": 0,
      "outputs": []
    },
    {
      "metadata": {
        "id": "kGKrx-o5iGd5",
        "colab_type": "text"
      },
      "cell_type": "markdown",
      "source": [
        "**11**. **Create a function to show the images (4 in each row)**"
      ]
    },
    {
      "metadata": {
        "id": "YEDYSZl-iG9g",
        "colab_type": "code",
        "colab": {}
      },
      "cell_type": "code",
      "source": [
        "def show_imgs(X):\n",
        "    pyplot.figure(1)\n",
        "    k = 0\n",
        "    for i in range(0,4):\n",
        "        for j in range(0,4):\n",
        "            pyplot.subplot2grid((4,4),(i,j))\n",
        "            pyplot.imshow(toimage(X[k]))\n",
        "            k = k+1\n",
        "    # show the plot\n",
        "    pyplot.show()"
      ],
      "execution_count": 0,
      "outputs": []
    },
    {
      "metadata": {
        "id": "qmlMe8q3iLHc",
        "colab_type": "text"
      },
      "cell_type": "markdown",
      "source": [
        "**12**. **Show the image of first 16 animals, store the model and predict the animals by printing the name**"
      ]
    },
    {
      "metadata": {
        "id": "fAgZYhaXiLf1",
        "colab_type": "code",
        "outputId": "9659ea6e-4390-4675-9171-df906be89225",
        "colab": {
          "base_uri": "https://localhost:8080/",
          "height": 435
        }
      },
      "cell_type": "code",
      "source": [
        "show_imgs(x_test[:16])\n",
        " \n",
        "# Load trained CNN model\n",
        "json_file = open('model.json', 'r')\n",
        "loaded_model_json = json_file.read()\n",
        "json_file.close()\n",
        "model = model_from_json(loaded_model_json)\n",
        "model.load_weights('model.h5')\n",
        " \n",
        "labels =  ['airplane','automobile','bird','cat','deer','dog','frog','horse','ship','truck']\n",
        " \n",
        "indices = np.argmax(model.predict(x_test[:16]),1)\n",
        "print ([labels[x] for x in indices])"
      ],
      "execution_count": 0,
      "outputs": [
        {
          "output_type": "stream",
          "text": [
            "/usr/local/lib/python3.6/dist-packages/ipykernel_launcher.py:7: DeprecationWarning: `toimage` is deprecated!\n",
            "`toimage` is deprecated in SciPy 1.0.0, and will be removed in 1.2.0.\n",
            "Use Pillow's ``Image.fromarray`` directly instead.\n",
            "  import sys\n"
          ],
          "name": "stderr"
        },
        {
          "output_type": "display_data",
          "data": {
            "image/png": "[encoded data removed]",
            "text/plain": [
              "<matplotlib.figure.Figure at 0x7f9ef48f72b0>"
            ]
          },
          "metadata": {
            "tags": []
          }
        },
        {
          "output_type": "stream",
          "text": [
            "['cat', 'ship', 'ship', 'airplane', 'frog', 'frog', 'automobile', 'frog', 'cat', 'automobile', 'airplane', 'truck', 'dog', 'horse', 'truck', 'ship']\n"
          ],
          "name": "stdout"
        }
      ]
    }
  ]
}